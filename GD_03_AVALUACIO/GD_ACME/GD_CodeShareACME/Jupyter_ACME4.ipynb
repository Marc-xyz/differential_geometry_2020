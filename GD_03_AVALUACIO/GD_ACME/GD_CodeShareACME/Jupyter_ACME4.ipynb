{
 "cells": [
  {
   "cell_type": "code",
   "execution_count": 1,
   "metadata": {},
   "outputs": [
    {
     "name": "stdout",
     "output_type": "stream",
     "text": [
      "Tercer curs del grau en Matemàtiques (UAB)\n",
      "Assignatura de Geometria Diferencial [MO32211]\n",
      "Codis en Sage Math 8.1 pels ACME's\n",
      "Activitat 5: Integració i formes diferencials\n",
      "by M.G\n"
     ]
    }
   ],
   "source": [
    "print(\"Tercer curs del grau en Matemàtiques (UAB)\");\n",
    "print(\"Assignatura de Geometria Diferencial [MO32211]\");\n",
    "print(\"Codis en Sage Math 8.1 pels ACME's\");\n",
    "print('Activitat 5: Integració i formes diferencials'); #~ACME4\n",
    "print(\"by M.G\");"
   ]
  },
  {
   "cell_type": "code",
   "execution_count": 3,
   "metadata": {},
   "outputs": [
    {
     "name": "stdout",
     "output_type": "stream",
     "text": [
      "NOMÉS EL EXERCICI DE FLUX\n"
     ]
    }
   ],
   "source": [
    "print('NOMÉS EL EXERCICI DE FLUX')"
   ]
  },
  {
   "cell_type": "code",
   "execution_count": 4,
   "metadata": {},
   "outputs": [
    {
     "data": {
      "text/html": [
       "<html><script type=\"math/tex; mode=display\">\\newcommand{\\Bold}[1]{\\mathbf{#1}}\\verb|Normal=| \\left(3 \\, \\cos\\left(v\\right) \\sin\\left(u\\right)^{2},\\,4 \\, \\sin\\left(u\\right)^{2} \\sin\\left(v\\right),\\,12 \\, \\cos\\left(u\\right) \\cos\\left(v\\right)^{2} \\sin\\left(u\\right) + 12 \\, \\cos\\left(u\\right) \\sin\\left(u\\right) \\sin\\left(v\\right)^{2}\\right)</script></html>"
      ],
      "text/plain": [
       "'Normal=' (3*cos(v)*sin(u)^2, 4*sin(u)^2*sin(v), 12*cos(u)*cos(v)^2*sin(u) + 12*cos(u)*sin(u)*sin(v)^2)"
      ]
     },
     "metadata": {},
     "output_type": "display_data"
    },
    {
     "data": {
      "text/html": [
       "<html><script type=\"math/tex; mode=display\">\\newcommand{\\Bold}[1]{\\mathbf{#1}}\\verb|<X,N>=| 36 \\, \\cos\\left(u\\right) \\sin\\left(u\\right)^{2} \\sin\\left(v\\right) + 12 \\, \\sin\\left(u\\right)^{3}</script></html>"
      ],
      "text/plain": [
       "'<X,N>=' 36*cos(u)*sin(u)^2*sin(v) + 12*sin(u)^3"
      ]
     },
     "metadata": {},
     "output_type": "display_data"
    },
    {
     "data": {
      "text/html": [
       "<html><script type=\"math/tex; mode=display\">\\newcommand{\\Bold}[1]{\\mathbf{#1}}\\verb|Integral=| 16 \\, \\pi</script></html>"
      ],
      "text/plain": [
       "'Integral=' 16*pi"
      ]
     },
     "metadata": {},
     "output_type": "display_data"
    }
   ],
   "source": [
    "var('u, v, x, y, z')\n",
    "# Marc version\n",
    "# Valors del elipsoide a^2 b^2 c^2\n",
    "a=4;\n",
    "b=3;\n",
    "c=1;\n",
    "# Parametritzem, derivades respecte u i v i normal a la superficie\n",
    "Phi=vector((a*sin(u)*cos(v),b*sin(u)*sin(v),c*cos(u)));\n",
    "Phi_u=Phi.diff(u);\n",
    "Phi_v=Phi.diff(v);\n",
    "N=Phi_u.cross_product(Phi_v);\n",
    "show('Normal=',N);\n",
    "# Camp X\n",
    "X=vector((x,y,y));\n",
    "# Camp sobre la superficie\n",
    "coses=X.subs(x=Phi[0],y=Phi[1])*N\n",
    "# Que és coses \n",
    "show('<X,N>=',coses.simplify_full())\n",
    "# Integral que ens interesa\n",
    "I=coses.integral(u,pi/2,pi).integral(v,0,2*pi);\n",
    "show('Integral=',I);"
   ]
  },
  {
   "cell_type": "code",
   "execution_count": 6,
   "metadata": {},
   "outputs": [
    {
     "data": {
      "text/html": [
       "<html><script type=\"math/tex; mode=display\">\\newcommand{\\Bold}[1]{\\mathbf{#1}}\\verb|Normal=| \\left(3 \\, \\cos\\left(v\\right) \\sin\\left(u\\right)^{2},\\,4 \\, \\sin\\left(u\\right)^{2} \\sin\\left(v\\right),\\,12 \\, \\cos\\left(u\\right) \\cos\\left(v\\right)^{2} \\sin\\left(u\\right) + 12 \\, \\cos\\left(u\\right) \\sin\\left(u\\right) \\sin\\left(v\\right)^{2}\\right)</script></html>"
      ],
      "text/plain": [
       "'Normal=' (3*cos(v)*sin(u)^2, 4*sin(u)^2*sin(v), 12*cos(u)*cos(v)^2*sin(u) + 12*cos(u)*sin(u)*sin(v)^2)"
      ]
     },
     "metadata": {},
     "output_type": "display_data"
    },
    {
     "data": {
      "text/html": [
       "<html><script type=\"math/tex; mode=display\">\\newcommand{\\Bold}[1]{\\mathbf{#1}}\\verb|<X,N>=| 36 \\, \\cos\\left(u\\right) \\sin\\left(u\\right)^{2} \\sin\\left(v\\right) + 12 \\, \\sin\\left(u\\right)^{3}</script></html>"
      ],
      "text/plain": [
       "'<X,N>=' 36*cos(u)*sin(u)^2*sin(v) + 12*sin(u)^3"
      ]
     },
     "metadata": {},
     "output_type": "display_data"
    },
    {
     "data": {
      "text/html": [
       "<html><script type=\"math/tex; mode=display\">\\newcommand{\\Bold}[1]{\\mathbf{#1}}\\verb|Integral=| 16 \\, \\pi</script></html>"
      ],
      "text/plain": [
       "'Integral=' 16*pi"
      ]
     },
     "metadata": {},
     "output_type": "display_data"
    }
   ],
   "source": [
    "var('u, v, x, y, z')\n",
    "# How version\n",
    "# Valors del elipsoide a^2 b^2 c^2\n",
    "a=4;\n",
    "b=3;\n",
    "c=1;\n",
    "# Parametritzem, derivades respecte u i v i normal a la superficie\n",
    "Phi=vector((a*sin(u)*cos(v),b*sin(u)*sin(v),c*cos(u)));\n",
    "Phi_u=Phi.diff(u);\n",
    "Phi_v=Phi.diff(v);\n",
    "N=Phi_u.cross_product(Phi_v);\n",
    "show('Normal=',N);\n",
    "# Camp X\n",
    "X=vector((x,y,y));\n",
    "# Camp sobre la superficie\n",
    "coses=X.subs(x=Phi[0],y=Phi[1])*N\n",
    "# Que és coses \n",
    "show('<X,N>=',coses.simplify_full())\n",
    "# Integral que ens interesa\n",
    "I=coses.integral(u,0,pi/2).integral(v,0,2*pi);\n",
    "show('Integral=',I);"
   ]
  },
  {
   "cell_type": "code",
   "execution_count": 5,
   "metadata": {},
   "outputs": [
    {
     "data": {
      "text/html": [
       "<html><script type=\"math/tex; mode=display\">\\newcommand{\\Bold}[1]{\\mathbf{#1}}\\verb|Normal=| \\left(3 \\, \\cos\\left(v\\right) \\sin\\left(u\\right)^{2},\\,2 \\, \\sin\\left(u\\right)^{2} \\sin\\left(v\\right),\\,6 \\, \\cos\\left(u\\right) \\cos\\left(v\\right)^{2} \\sin\\left(u\\right) + 6 \\, \\cos\\left(u\\right) \\sin\\left(u\\right) \\sin\\left(v\\right)^{2}\\right)</script></html>"
      ],
      "text/plain": [
       "'Normal=' (3*cos(v)*sin(u)^2, 2*sin(u)^2*sin(v), 6*cos(u)*cos(v)^2*sin(u) + 6*cos(u)*sin(u)*sin(v)^2)"
      ]
     },
     "metadata": {},
     "output_type": "display_data"
    },
    {
     "data": {
      "text/html": [
       "<html><script type=\"math/tex; mode=display\">\\newcommand{\\Bold}[1]{\\mathbf{#1}}\\verb|<X,N>=| 2 \\, {\\left(9 \\, \\cos\\left(u\\right) + 1\\right)} \\sin\\left(u\\right)^{2} \\sin\\left(v\\right) + 3 \\, \\cos\\left(v\\right) \\sin\\left(u\\right)^{2}</script></html>"
      ],
      "text/plain": [
       "'<X,N>=' 2*(9*cos(u) + 1)*sin(u)^2*sin(v) + 3*cos(v)*sin(u)^2"
      ]
     },
     "metadata": {},
     "output_type": "display_data"
    },
    {
     "data": {
      "text/html": [
       "<html><script type=\"math/tex; mode=display\">\\newcommand{\\Bold}[1]{\\mathbf{#1}}\\verb|Integral=| 0</script></html>"
      ],
      "text/plain": [
       "'Integral=' 0"
      ]
     },
     "metadata": {},
     "output_type": "display_data"
    }
   ],
   "source": [
    "#Cesar version\n",
    "var('u, v, x, y, z')\n",
    "# Valors del elipsoide a^2 b^2 c^2\n",
    "a=2;\n",
    "b=3;\n",
    "c=1;\n",
    "# Parametritzem, derivades respecte u i v i normal a la superficie\n",
    "Phi=vector((a*sin(u)*cos(v),b*sin(u)*sin(v),c*cos(u)));\n",
    "Phi_u=Phi.diff(u);\n",
    "Phi_v=Phi.diff(v);\n",
    "N=Phi_u.cross_product(Phi_v);\n",
    "show('Normal=',N);\n",
    "# Camp X\n",
    "X=vector((1,1,y));\n",
    "# Camp sobre la superficie\n",
    "coses=X.subs(x=Phi[0],y=Phi[1])*N\n",
    "# Que és coses \n",
    "show('<X,N>=',coses.simplify_full())\n",
    "# Integral que ens interesa\n",
    "I=coses.integral(u,0,pi/2).integral(v,0,2*pi);\n",
    "show('Integral=',I);"
   ]
  },
  {
   "cell_type": "code",
   "execution_count": 6,
   "metadata": {},
   "outputs": [
    {
     "data": {
      "text/html": [
       "<html><script type=\"math/tex; mode=display\">\\newcommand{\\Bold}[1]{\\mathbf{#1}}\\verb|Normal=| \\left(3 \\, \\cos\\left(v\\right) \\sin\\left(u\\right)^{2},\\,2 \\, \\sin\\left(u\\right)^{2} \\sin\\left(v\\right),\\,6 \\, \\cos\\left(u\\right) \\cos\\left(v\\right)^{2} \\sin\\left(u\\right) + 6 \\, \\cos\\left(u\\right) \\sin\\left(u\\right) \\sin\\left(v\\right)^{2}\\right)</script></html>"
      ],
      "text/plain": [
       "'Normal=' (3*cos(v)*sin(u)^2, 2*sin(u)^2*sin(v), 6*cos(u)*cos(v)^2*sin(u) + 6*cos(u)*sin(u)*sin(v)^2)"
      ]
     },
     "metadata": {},
     "output_type": "display_data"
    },
    {
     "data": {
      "text/html": [
       "<html><script type=\"math/tex; mode=display\">\\newcommand{\\Bold}[1]{\\mathbf{#1}}\\verb|<X,N>=| 6 \\, \\sin\\left(u\\right)</script></html>"
      ],
      "text/plain": [
       "'<X,N>=' 6*sin(u)"
      ]
     },
     "metadata": {},
     "output_type": "display_data"
    },
    {
     "data": {
      "text/html": [
       "<html><script type=\"math/tex; mode=display\">\\newcommand{\\Bold}[1]{\\mathbf{#1}}\\verb|Integral=| 12 \\, \\pi</script></html>"
      ],
      "text/plain": [
       "'Integral=' 12*pi"
      ]
     },
     "metadata": {},
     "output_type": "display_data"
    }
   ],
   "source": [
    "#Carme version\n",
    "var('u, v, x, y, z')\n",
    "# Valors del elipsoide a^2 b^2 c^2\n",
    "a=2;\n",
    "b=3;\n",
    "c=1;\n",
    "# Parametritzem, derivades respecte u i v i normal a la superficie\n",
    "Phi=vector((a*sin(u)*cos(v),b*sin(u)*sin(v),c*cos(u)));\n",
    "Phi_u=Phi.diff(u);\n",
    "Phi_v=Phi.diff(v);\n",
    "N=Phi_u.cross_product(Phi_v);\n",
    "show('Normal=',N);\n",
    "# Camp X\n",
    "X=vector((x,y,z));\n",
    "# Camp sobre la superficie\n",
    "coses=X.subs(x=Phi[0],y=Phi[1],z=Phi[2])*N\n",
    "# Que és coses \n",
    "show('<X,N>=',coses.simplify_full())\n",
    "# Integral que ens interesa\n",
    "I=coses.integral(u,0,pi/2).integral(v,0,2*pi);\n",
    "show('Integral=',I);"
   ]
  }
 ],
 "metadata": {
  "kernelspec": {
   "display_name": "SageMath 8.1",
   "language": "",
   "name": "sagemath"
  },
  "language_info": {
   "codemirror_mode": {
    "name": "ipython",
    "version": 2
   },
   "file_extension": ".py",
   "mimetype": "text/x-python",
   "name": "python",
   "nbconvert_exporter": "python",
   "pygments_lexer": "ipython2",
   "version": "2.7.17"
  }
 },
 "nbformat": 4,
 "nbformat_minor": 2
}
