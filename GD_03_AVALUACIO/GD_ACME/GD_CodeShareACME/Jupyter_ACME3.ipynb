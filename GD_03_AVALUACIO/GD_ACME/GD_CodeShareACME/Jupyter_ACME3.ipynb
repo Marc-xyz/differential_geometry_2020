{
 "cells": [
  {
   "cell_type": "code",
   "execution_count": 8,
   "metadata": {},
   "outputs": [
    {
     "name": "stdout",
     "output_type": "stream",
     "text": [
      "Tercer curs del grau en Matemàtiques (UAB)\n",
      "Assignatura de Geometria Diferencial [MO32211]\n",
      "Codis en Sage Math 8.1 pels ACME's\n",
      "Activitat 4: Superfícies II\n",
      "by M.G\n"
     ]
    }
   ],
   "source": [
    "print(\"Tercer curs del grau en Matemàtiques (UAB)\");\n",
    "print(\"Assignatura de Geometria Diferencial [MO32211]\");\n",
    "print(\"Codis en Sage Math 8.1 pels ACME's\");\n",
    "print('Activitat 4: Superfícies II'); #~ACME3\n",
    "print(\"by M.G\");"
   ]
  },
  {
   "cell_type": "code",
   "execution_count": 9,
   "metadata": {},
   "outputs": [
    {
     "name": "stdout",
     "output_type": "stream",
     "text": [
      "Problema 2 Cesar\n"
     ]
    },
    {
     "data": {
      "text/html": [
       "<html><script type=\"math/tex; mode=display\">\\newcommand{\\Bold}[1]{\\mathbf{#1}}\\left[\\left[\\Gamma_{211} = -\\frac{u}{{\\left(4 \\, v^{2} + 1\\right)} u^{2} + v^{2}}, \\Gamma_{111} = \\frac{{\\left(4 \\, v^{2} + 1\\right)} u}{{\\left(4 \\, v^{2} + 1\\right)} u^{2} + v^{2}}\\right]\\right]</script></html>"
      ],
      "text/plain": [
       "[[Gamma_211 == -u/((4*v^2 + 1)*u^2 + v^2), Gamma_111 == (4*v^2 + 1)*u/((4*v^2 + 1)*u^2 + v^2)]]"
      ]
     },
     "metadata": {},
     "output_type": "display_data"
    },
    {
     "data": {
      "text/html": [
       "<html><script type=\"math/tex; mode=display\">\\newcommand{\\Bold}[1]{\\mathbf{#1}}\\left[\\left[\\Gamma_{112} = 0, \\Gamma_{212} = 0\\right]\\right]</script></html>"
      ],
      "text/plain": [
       "[[Gamma_112 == 0, Gamma_212 == 0]]"
      ]
     },
     "metadata": {},
     "output_type": "display_data"
    },
    {
     "data": {
      "text/html": [
       "<html><script type=\"math/tex; mode=display\">\\newcommand{\\Bold}[1]{\\mathbf{#1}}\\left[\\left[\\Gamma_{122} = -\\frac{v}{{\\left(4 \\, v^{2} + 1\\right)} u^{2} + v^{2}}, \\Gamma_{222} = \\frac{4 \\, u^{2} v + v}{{\\left(4 \\, v^{2} + 1\\right)} u^{2} + v^{2}}\\right]\\right]</script></html>"
      ],
      "text/plain": [
       "[[Gamma_122 == -v/((4*v^2 + 1)*u^2 + v^2), Gamma_222 == (4*u^2*v + v)/((4*v^2 + 1)*u^2 + v^2)]]"
      ]
     },
     "metadata": {},
     "output_type": "display_data"
    },
    {
     "name": "stdout",
     "output_type": "stream",
     "text": [
      "Si u=4m , i v=5\n",
      "Gamma_111, Gamma_112, Gamma_122\n"
     ]
    },
    {
     "data": {
      "text/html": [
       "<html><script type=\"math/tex; mode=display\">\\newcommand{\\Bold}[1]{\\mathbf{#1}}\\Gamma_{111} = \\left(\\frac{404}{1641}\\right) \\Gamma_{112} = 0 \\Gamma_{122} = \\left(-\\frac{5}{1641}\\right)</script></html>"
      ],
      "text/plain": [
       "Gamma_111 == (404/1641) Gamma_112 == 0 Gamma_122 == (-5/1641)"
      ]
     },
     "metadata": {},
     "output_type": "display_data"
    },
    {
     "name": "stdout",
     "output_type": "stream",
     "text": [
      "Gamma_211, Gamma_212, Gamma_222\n"
     ]
    },
    {
     "data": {
      "text/html": [
       "<html><script type=\"math/tex; mode=display\">\\newcommand{\\Bold}[1]{\\mathbf{#1}}\\Gamma_{211} = \\left(-\\frac{4}{1641}\\right) \\Gamma_{212} = 0 \\Gamma_{222} = \\left(\\frac{325}{1641}\\right)</script></html>"
      ],
      "text/plain": [
       "Gamma_211 == (-4/1641) Gamma_212 == 0 Gamma_222 == (325/1641)"
      ]
     },
     "metadata": {},
     "output_type": "display_data"
    }
   ],
   "source": [
    "#Aqui va el programet per fer els calculs directes de \n",
    "# la primera pregunta del segon exerci del ACME\n",
    "print(\"Problema 2 Cesar\");\n",
    "# Cal introduir els valors dels coeficients de la primera\n",
    "#forma fonamental: E,F,G\n",
    "var('u','v');\n",
    "E=1+4*u^2; F=1; G=1+4*v^2;\n",
    "#Considerem com a variables els símbols de Christoffel\n",
    "var('Gamma_111', 'Gamma_112', 'Gamma_122');\n",
    "var('Gamma_211', 'Gamma_212', 'Gamma_222');\n",
    "Sol_1=solve([Gamma_111*E+Gamma_211*F==1/2*diff(E,u),Gamma_111*F+Gamma_211*G==diff(F,u)-1/2*diff(E,v)],Gamma_211,Gamma_111);\n",
    "show(Sol_1);\n",
    "Sol_2=solve([Gamma_112*E+Gamma_212*F==1/2*diff(E,v),Gamma_112*F+Gamma_212*G==1/2*diff(G,u)],Gamma_112,Gamma_212)\n",
    "show(Sol_2);\n",
    "Sol_3=solve([Gamma_122*E+Gamma_222*F==diff(F,v)-1/2*diff(G,u),Gamma_122*F+Gamma_222*G==1/2*diff(G,v)],Gamma_122,Gamma_222)\n",
    "show(Sol_3);\n",
    "##Aqui fiquem els valors del punt que volem evaluar:\n",
    "m=4;\n",
    "n=5;\n",
    "print(\"Si u=\" + str(m) + \"m , i v=\" + str(n))\n",
    "print('Gamma_111, '+ 'Gamma_112, '+'Gamma_122')\n",
    "show((Sol_1[0][1]).subs(u=m,v=n), (Sol_2[0][0]).subs(u=m,v=n), (Sol_3[0][0]).subs(u=m,v=n));\n",
    "print('Gamma_211, '+ 'Gamma_212, '+'Gamma_222')\n",
    "show((Sol_1[0][0]).subs(u=m,v=n), (Sol_2[0][1]).subs(u=m,v=n), (Sol_3[0][1]).subs(u=m,v=n));"
   ]
  },
  {
   "cell_type": "code",
   "execution_count": 10,
   "metadata": {},
   "outputs": [
    {
     "name": "stdout",
     "output_type": "stream",
     "text": [
      "Problema 2 Marc\n"
     ]
    },
    {
     "data": {
      "text/html": [
       "<html><script type=\"math/tex; mode=display\">\\newcommand{\\Bold}[1]{\\mathbf{#1}}\\left[\\left[\\Gamma_{211} = -\\frac{2 \\, u}{2 \\, {\\left(5 \\, v^{2} + 1\\right)} u^{2} + 5 \\, v^{2}}, \\Gamma_{111} = \\frac{2 \\, {\\left(5 \\, v^{2} + 1\\right)} u}{2 \\, {\\left(5 \\, v^{2} + 1\\right)} u^{2} + 5 \\, v^{2}}\\right]\\right]</script></html>"
      ],
      "text/plain": [
       "[[Gamma_211 == -2*u/(2*(5*v^2 + 1)*u^2 + 5*v^2), Gamma_111 == 2*(5*v^2 + 1)*u/(2*(5*v^2 + 1)*u^2 + 5*v^2)]]"
      ]
     },
     "metadata": {},
     "output_type": "display_data"
    },
    {
     "data": {
      "text/html": [
       "<html><script type=\"math/tex; mode=display\">\\newcommand{\\Bold}[1]{\\mathbf{#1}}\\left[\\left[\\Gamma_{112} = 0, \\Gamma_{212} = 0\\right]\\right]</script></html>"
      ],
      "text/plain": [
       "[[Gamma_112 == 0, Gamma_212 == 0]]"
      ]
     },
     "metadata": {},
     "output_type": "display_data"
    },
    {
     "data": {
      "text/html": [
       "<html><script type=\"math/tex; mode=display\">\\newcommand{\\Bold}[1]{\\mathbf{#1}}\\left[\\left[\\Gamma_{122} = -\\frac{5 \\, v}{2 \\, {\\left(5 \\, v^{2} + 1\\right)} u^{2} + 5 \\, v^{2}}, \\Gamma_{222} = \\frac{5 \\, {\\left(2 \\, u^{2} v + v\\right)}}{2 \\, {\\left(5 \\, v^{2} + 1\\right)} u^{2} + 5 \\, v^{2}}\\right]\\right]</script></html>"
      ],
      "text/plain": [
       "[[Gamma_122 == -5*v/(2*(5*v^2 + 1)*u^2 + 5*v^2), Gamma_222 == 5*(2*u^2*v + v)/(2*(5*v^2 + 1)*u^2 + 5*v^2)]]"
      ]
     },
     "metadata": {},
     "output_type": "display_data"
    },
    {
     "name": "stdout",
     "output_type": "stream",
     "text": [
      "Si u=1m , i v=5\n",
      "Gamma_111, Gamma_112, Gamma_122\n"
     ]
    },
    {
     "data": {
      "text/html": [
       "<html><script type=\"math/tex; mode=display\">\\newcommand{\\Bold}[1]{\\mathbf{#1}}\\Gamma_{111} = \\left(\\frac{252}{377}\\right) \\Gamma_{112} = 0 \\Gamma_{122} = \\left(-\\frac{25}{377}\\right)</script></html>"
      ],
      "text/plain": [
       "Gamma_111 == (252/377) Gamma_112 == 0 Gamma_122 == (-25/377)"
      ]
     },
     "metadata": {},
     "output_type": "display_data"
    },
    {
     "name": "stdout",
     "output_type": "stream",
     "text": [
      "Gamma_211, Gamma_212, Gamma_222\n"
     ]
    },
    {
     "data": {
      "text/html": [
       "<html><script type=\"math/tex; mode=display\">\\newcommand{\\Bold}[1]{\\mathbf{#1}}\\Gamma_{211} = \\left(-\\frac{2}{377}\\right) \\Gamma_{212} = 0 \\Gamma_{222} = \\left(\\frac{75}{377}\\right)</script></html>"
      ],
      "text/plain": [
       "Gamma_211 == (-2/377) Gamma_212 == 0 Gamma_222 == (75/377)"
      ]
     },
     "metadata": {},
     "output_type": "display_data"
    }
   ],
   "source": [
    "#Aqui va el programet per fer els calculs directes de \n",
    "# la primera pregunta del segon exerci del ACME\n",
    "print(\"Problema 2 Marc\");\n",
    "# Cal introduir els valors dels coeficients de la primera\n",
    "#forma fonamental: E,F,G\n",
    "var('u','v');\n",
    "E=1+2*u^2; F=1; G=1+5*v^2;\n",
    "#Considerem com a variables els símbols de Christoffel\n",
    "var('Gamma_111', 'Gamma_112', 'Gamma_122');\n",
    "var('Gamma_211', 'Gamma_212', 'Gamma_222');\n",
    "Sol_1=solve([Gamma_111*E+Gamma_211*F==1/2*diff(E,u),Gamma_111*F+Gamma_211*G==diff(F,u)-1/2*diff(E,v)],Gamma_211,Gamma_111);\n",
    "show(Sol_1);\n",
    "Sol_2=solve([Gamma_112*E+Gamma_212*F==1/2*diff(E,v),Gamma_112*F+Gamma_212*G==1/2*diff(G,u)],Gamma_112,Gamma_212)\n",
    "show(Sol_2);\n",
    "Sol_3=solve([Gamma_122*E+Gamma_222*F==diff(F,v)-1/2*diff(G,u),Gamma_122*F+Gamma_222*G==1/2*diff(G,v)],Gamma_122,Gamma_222)\n",
    "show(Sol_3);\n",
    "##Aqui fiquem els valors del punt que volem evaluar:\n",
    "m=1;\n",
    "n=5;\n",
    "print(\"Si u=\" + str(m) + \"m , i v=\" + str(n))\n",
    "print('Gamma_111, '+ 'Gamma_112, '+'Gamma_122')\n",
    "show((Sol_1[0][1]).subs(u=m,v=n), (Sol_2[0][0]).subs(u=m,v=n), (Sol_3[0][0]).subs(u=m,v=n));\n",
    "print('Gamma_211, '+ 'Gamma_212, '+'Gamma_222')\n",
    "show((Sol_1[0][0]).subs(u=m,v=n), (Sol_2[0][1]).subs(u=m,v=n), (Sol_3[0][1]).subs(u=m,v=n));"
   ]
  },
  {
   "cell_type": "code",
   "execution_count": 11,
   "metadata": {},
   "outputs": [
    {
     "name": "stdout",
     "output_type": "stream",
     "text": [
      "Problema 2 Biblop\n"
     ]
    },
    {
     "data": {
      "text/html": [
       "<html><script type=\"math/tex; mode=display\">\\newcommand{\\Bold}[1]{\\mathbf{#1}}\\left[\\left[\\Gamma_{211} = -\\frac{2 \\, u}{2 \\, {\\left(2 \\, v^{2} + 1\\right)} u^{2} + v^{2}}, \\Gamma_{111} = \\frac{2 \\, {\\left(2 \\, v^{2} + 1\\right)} u}{2 \\, {\\left(2 \\, v^{2} + 1\\right)} u^{2} + v^{2}}\\right]\\right]</script></html>"
      ],
      "text/plain": [
       "[[Gamma_211 == -2*u/(2*(2*v^2 + 1)*u^2 + v^2), Gamma_111 == 2*(2*v^2 + 1)*u/(2*(2*v^2 + 1)*u^2 + v^2)]]"
      ]
     },
     "metadata": {},
     "output_type": "display_data"
    },
    {
     "data": {
      "text/html": [
       "<html><script type=\"math/tex; mode=display\">\\newcommand{\\Bold}[1]{\\mathbf{#1}}\\left[\\left[\\Gamma_{112} = 0, \\Gamma_{212} = 0\\right]\\right]</script></html>"
      ],
      "text/plain": [
       "[[Gamma_112 == 0, Gamma_212 == 0]]"
      ]
     },
     "metadata": {},
     "output_type": "display_data"
    },
    {
     "data": {
      "text/html": [
       "<html><script type=\"math/tex; mode=display\">\\newcommand{\\Bold}[1]{\\mathbf{#1}}\\left[\\left[\\Gamma_{122} = -\\frac{v}{2 \\, {\\left(2 \\, v^{2} + 1\\right)} u^{2} + v^{2}}, \\Gamma_{222} = \\frac{4 \\, u^{2} v + v}{2 \\, {\\left(2 \\, v^{2} + 1\\right)} u^{2} + v^{2}}\\right]\\right]</script></html>"
      ],
      "text/plain": [
       "[[Gamma_122 == -v/(2*(2*v^2 + 1)*u^2 + v^2), Gamma_222 == (4*u^2*v + v)/(2*(2*v^2 + 1)*u^2 + v^2)]]"
      ]
     },
     "metadata": {},
     "output_type": "display_data"
    },
    {
     "name": "stdout",
     "output_type": "stream",
     "text": [
      "Si u=5m , i v=1\n",
      "Gamma_111, Gamma_112, Gamma_122\n"
     ]
    },
    {
     "data": {
      "text/html": [
       "<html><script type=\"math/tex; mode=display\">\\newcommand{\\Bold}[1]{\\mathbf{#1}}\\Gamma_{111} = \\left(\\frac{30}{151}\\right) \\Gamma_{112} = 0 \\Gamma_{122} = \\left(-\\frac{1}{151}\\right)</script></html>"
      ],
      "text/plain": [
       "Gamma_111 == (30/151) Gamma_112 == 0 Gamma_122 == (-1/151)"
      ]
     },
     "metadata": {},
     "output_type": "display_data"
    },
    {
     "name": "stdout",
     "output_type": "stream",
     "text": [
      "Gamma_211, Gamma_212, Gamma_222\n"
     ]
    },
    {
     "data": {
      "text/html": [
       "<html><script type=\"math/tex; mode=display\">\\newcommand{\\Bold}[1]{\\mathbf{#1}}\\Gamma_{211} = \\left(-\\frac{10}{151}\\right) \\Gamma_{212} = 0 \\Gamma_{222} = \\left(\\frac{101}{151}\\right)</script></html>"
      ],
      "text/plain": [
       "Gamma_211 == (-10/151) Gamma_212 == 0 Gamma_222 == (101/151)"
      ]
     },
     "metadata": {},
     "output_type": "display_data"
    }
   ],
   "source": [
    "#Aqui va el programet per fer els calculs directes de \n",
    "# la primera pregunta del segon exerci del ACME\n",
    "print(\"Problema 2 Biblop\");\n",
    "# Cal introduir els valors dels coeficients de la primera\n",
    "#forma fonamental: E,F,G\n",
    "var('u','v');\n",
    "E=1+4*u^2; F=1; G=1+2*v^2;\n",
    "#Considerem com a variables els símbols de Christoffel\n",
    "var('Gamma_111', 'Gamma_112', 'Gamma_122');\n",
    "var('Gamma_211', 'Gamma_212', 'Gamma_222');\n",
    "Sol_1=solve([Gamma_111*E+Gamma_211*F==1/2*diff(E,u),Gamma_111*F+Gamma_211*G==diff(F,u)-1/2*diff(E,v)],Gamma_211,Gamma_111);\n",
    "show(Sol_1);\n",
    "Sol_2=solve([Gamma_112*E+Gamma_212*F==1/2*diff(E,v),Gamma_112*F+Gamma_212*G==1/2*diff(G,u)],Gamma_112,Gamma_212)\n",
    "show(Sol_2);\n",
    "Sol_3=solve([Gamma_122*E+Gamma_222*F==diff(F,v)-1/2*diff(G,u),Gamma_122*F+Gamma_222*G==1/2*diff(G,v)],Gamma_122,Gamma_222)\n",
    "show(Sol_3);\n",
    "##Aqui fiquem els valors del punt que volem evaluar:\n",
    "m=5;\n",
    "n=1;\n",
    "print(\"Si u=\" + str(m) + \"m , i v=\" + str(n))\n",
    "print('Gamma_111, '+ 'Gamma_112, '+'Gamma_122')\n",
    "show((Sol_1[0][1]).subs(u=m,v=n), (Sol_2[0][0]).subs(u=m,v=n), (Sol_3[0][0]).subs(u=m,v=n));\n",
    "print('Gamma_211, '+ 'Gamma_212, '+'Gamma_222')\n",
    "show((Sol_1[0][0]).subs(u=m,v=n), (Sol_2[0][1]).subs(u=m,v=n), (Sol_3[0][1]).subs(u=m,v=n));\n"
   ]
  },
  {
   "cell_type": "code",
   "execution_count": 12,
   "metadata": {},
   "outputs": [
    {
     "name": "stdout",
     "output_type": "stream",
     "text": [
      "Problema 3  Biblop\n"
     ]
    },
    {
     "data": {
      "text/html": [
       "<html><script type=\"math/tex; mode=display\">\\newcommand{\\Bold}[1]{\\mathbf{#1}}\\verb|A=| -\\frac{1}{151}</script></html>"
      ],
      "text/plain": [
       "'A=' -1/151"
      ]
     },
     "metadata": {},
     "output_type": "display_data"
    },
    {
     "data": {
      "text/html": [
       "<html><script type=\"math/tex; mode=display\">\\newcommand{\\Bold}[1]{\\mathbf{#1}}\\verb|B=| \\frac{403}{151}</script></html>"
      ],
      "text/plain": [
       "'B=' 403/151"
      ]
     },
     "metadata": {},
     "output_type": "display_data"
    },
    {
     "name": "stdout",
     "output_type": "stream",
     "text": [
      "Problema 3  Marc\n"
     ]
    },
    {
     "data": {
      "text/html": [
       "<html><script type=\"math/tex; mode=display\">\\newcommand{\\Bold}[1]{\\mathbf{#1}}\\verb|A=| -\\frac{15625}{377}</script></html>"
      ],
      "text/plain": [
       "'A=' -15625/377"
      ]
     },
     "metadata": {},
     "output_type": "display_data"
    },
    {
     "data": {
      "text/html": [
       "<html><script type=\"math/tex; mode=display\">\\newcommand{\\Bold}[1]{\\mathbf{#1}}\\verb|B=| \\frac{141125}{377}</script></html>"
      ],
      "text/plain": [
       "'B=' 141125/377"
      ]
     },
     "metadata": {},
     "output_type": "display_data"
    },
    {
     "name": "stdout",
     "output_type": "stream",
     "text": [
      "Problema 3  Cesar\n"
     ]
    },
    {
     "data": {
      "text/html": [
       "<html><script type=\"math/tex; mode=display\">\\newcommand{\\Bold}[1]{\\mathbf{#1}}\\verb|A=| -\\frac{3125}{1641}</script></html>"
      ],
      "text/plain": [
       "'A=' -3125/1641"
      ]
     },
     "metadata": {},
     "output_type": "display_data"
    },
    {
     "data": {
      "text/html": [
       "<html><script type=\"math/tex; mode=display\">\\newcommand{\\Bold}[1]{\\mathbf{#1}}\\verb|B=| \\frac{613375}{1641}</script></html>"
      ],
      "text/plain": [
       "'B=' 613375/1641"
      ]
     },
     "metadata": {},
     "output_type": "display_data"
    }
   ],
   "source": [
    "#Aqui va el programet per fer els calculs directes de \n",
    "# la segona pregunta del segon exerci del ACME\n",
    "t=1\n",
    "print(\"Problema 3  Biblop\");\n",
    "show(\"A=\",-1/151*(1/(t))^4);\n",
    "show(\"B=\",2/(t)^3+ 101/151*(1/(t))^4);\n",
    "\n",
    "t=1/5;\n",
    "print(\"Problema 3  Marc\");\n",
    "show(\"A=\",(-25/377)*((1/(t))^4));\n",
    "show(\"B=\",2/((t)^3)+ 75/377*(1/(t))^4);\n",
    "\n",
    "t=1/5;\n",
    "print(\"Problema 3  Cesar\");\n",
    "show(\"A=\",(-5/1641)*((1/(t))^4));\n",
    "show(\"B=\",2/((t)^3)+ 325/1641*(1/(t))^4);"
   ]
  },
  {
   "cell_type": "code",
   "execution_count": 13,
   "metadata": {},
   "outputs": [
    {
     "name": "stdout",
     "output_type": "stream",
     "text": [
      "Problema 1 Marc\n"
     ]
    },
    {
     "data": {
      "text/html": [
       "<html><script type=\"math/tex; mode=display\">\\newcommand{\\Bold}[1]{\\mathbf{#1}}\\begin{array}{l}\n",
       "\\phantom{\\verb!x!}\\\\\n",
       "\\phantom{\\verb!x!}\\verb|a=|\n",
       "\\end{array} t \\ {\\mapsto}\\ \\left(2 \\, t,\\,3 \\, t,\\,-11 \\, t^{2}\\right) \\begin{array}{l}\n",
       "\\verb|,|\\\\\n",
       "\\verb|a_t=|\n",
       "\\end{array} t \\ {\\mapsto}\\ \\left(2,\\,3,\\,-22 \\, t\\right) \\begin{array}{l}\n",
       "\\verb|,|\\\\\n",
       "\\phantom{\\verb!x!}\\verb|a_tt=|\n",
       "\\end{array} t \\ {\\mapsto}\\ \\left(0,\\,0,\\,-22\\right)</script></html>"
      ],
      "text/plain": [
       "'\\n a=' t |--> (2*t, 3*t, -11*t^2) ',\\na_t=' t |--> (2, 3, -22*t) ',\\n a_tt=' t |--> (0, 0, -22)"
      ]
     },
     "metadata": {},
     "output_type": "display_data"
    },
    {
     "data": {
      "text/html": [
       "<html><script type=\"math/tex; mode=display\">\\newcommand{\\Bold}[1]{\\mathbf{#1}}\\begin{array}{l}\n",
       "\\phantom{\\verb!x!}\\\\\n",
       "\\phantom{\\verb!x!}\\verb|varphi=|\n",
       "\\end{array} \\left( u, v \\right) \\ {\\mapsto} \\ \\left(u,\\,v,\\,4 \\, u^{2} - 3 \\, v^{2}\\right) \\begin{array}{l}\n",
       "\\phantom{\\verb!x!}\\\\\n",
       "\\phantom{\\verb!x!}\\verb|varphi_u=|\n",
       "\\end{array} \\left( u, v \\right) \\ {\\mapsto} \\ \\left(1,\\,0,\\,8 \\, u\\right) \\begin{array}{l}\n",
       "\\\\\n",
       "\\phantom{\\verb!x!}\\verb|varphi_v=|\n",
       "\\end{array} \\left( u, v \\right) \\ {\\mapsto} \\ \\left(0,\\,1,\\,-6 \\, v\\right) \\begin{array}{l}\n",
       "\\phantom{\\verb!x!}\\\\\n",
       "\\phantom{\\verb!x!}\\verb|N=|\n",
       "\\end{array} \\left( u, v \\right) \\ {\\mapsto} \\ \\left(-\\frac{8 \\, u}{\\sqrt{64 \\, {\\left| u \\right|}^{2} + 36 \\, {\\left| v \\right|}^{2} + 1}},\\,\\frac{6 \\, v}{\\sqrt{64 \\, {\\left| u \\right|}^{2} + 36 \\, {\\left| v \\right|}^{2} + 1}},\\,\\frac{1}{\\sqrt{64 \\, {\\left| u \\right|}^{2} + 36 \\, {\\left| v \\right|}^{2} + 1}}\\right)</script></html>"
      ],
      "text/plain": [
       "'\\n varphi=' (u, v) |--> (u, v, 4*u^2 - 3*v^2) '\\n varphi_u=' (u, v) |--> (1, 0, 8*u) ' \\n varphi_v=' (u, v) |--> (0, 1, -6*v) '\\n N=' (u, v) |--> (-8*u/sqrt(64*abs(u)^2 + 36*abs(v)^2 + 1), 6*v/sqrt(64*abs(u)^2 + 36*abs(v)^2 + 1), 1/sqrt(64*abs(u)^2 + 36*abs(v)^2 + 1))"
      ]
     },
     "metadata": {},
     "output_type": "display_data"
    },
    {
     "data": {
      "text/html": [
       "<html><script type=\"math/tex; mode=display\">\\newcommand{\\Bold}[1]{\\mathbf{#1}}\\verb|Kg=| 0.00691957335351716</script></html>"
      ],
      "text/plain": [
       "'Kg=' 0.00691957335351716"
      ]
     },
     "metadata": {},
     "output_type": "display_data"
    },
    {
     "data": {
      "text/html": [
       "<html><script type=\"math/tex; mode=display\">\\newcommand{\\Bold}[1]{\\mathbf{#1}}\\verb|Kg=| \\left( t, u, v \\right) \\ {\\mapsto} \\ \\frac{264}{20501747} \\, \\sqrt{581} \\sqrt{497}</script></html>"
      ],
      "text/plain": [
       "'Kg=' (t, u, v) |--> 264/20501747*sqrt(581)*sqrt(497)"
      ]
     },
     "metadata": {},
     "output_type": "display_data"
    },
    {
     "name": "stdout",
     "output_type": "stream",
     "text": [
      "Problema 1 C\n"
     ]
    },
    {
     "data": {
      "text/html": [
       "<html><script type=\"math/tex; mode=display\">\\newcommand{\\Bold}[1]{\\mathbf{#1}}\\begin{array}{l}\n",
       "\\phantom{\\verb!x!}\\\\\n",
       "\\phantom{\\verb!x!}\\verb|a=|\n",
       "\\end{array} t \\ {\\mapsto}\\ \\left(3 \\, t,\\,4 \\, t,\\,-28 \\, t^{2}\\right) \\begin{array}{l}\n",
       "\\verb|,|\\\\\n",
       "\\verb|a_t=|\n",
       "\\end{array} t \\ {\\mapsto}\\ \\left(3,\\,4,\\,-56 \\, t\\right) \\begin{array}{l}\n",
       "\\verb|,|\\\\\n",
       "\\phantom{\\verb!x!}\\verb|a_tt=|\n",
       "\\end{array} t \\ {\\mapsto}\\ \\left(0,\\,0,\\,-56\\right)</script></html>"
      ],
      "text/plain": [
       "'\\n a=' t |--> (3*t, 4*t, -28*t^2) ',\\na_t=' t |--> (3, 4, -56*t) ',\\n a_tt=' t |--> (0, 0, -56)"
      ]
     },
     "metadata": {},
     "output_type": "display_data"
    },
    {
     "data": {
      "text/html": [
       "<html><script type=\"math/tex; mode=display\">\\newcommand{\\Bold}[1]{\\mathbf{#1}}\\begin{array}{l}\n",
       "\\phantom{\\verb!x!}\\\\\n",
       "\\phantom{\\verb!x!}\\verb|varphi=|\n",
       "\\end{array} \\left( u, v \\right) \\ {\\mapsto} \\ \\left(u,\\,v,\\,4 \\, u^{2} - 4 \\, v^{2}\\right) \\begin{array}{l}\n",
       "\\phantom{\\verb!x!}\\\\\n",
       "\\phantom{\\verb!x!}\\verb|varphi_u=|\n",
       "\\end{array} \\left( u, v \\right) \\ {\\mapsto} \\ \\left(1,\\,0,\\,8 \\, u\\right) \\begin{array}{l}\n",
       "\\\\\n",
       "\\phantom{\\verb!x!}\\verb|varphi_v=|\n",
       "\\end{array} \\left( u, v \\right) \\ {\\mapsto} \\ \\left(0,\\,1,\\,-8 \\, v\\right) \\begin{array}{l}\n",
       "\\phantom{\\verb!x!}\\\\\n",
       "\\phantom{\\verb!x!}\\verb|N=|\n",
       "\\end{array} \\left( u, v \\right) \\ {\\mapsto} \\ \\left(-\\frac{8 \\, u}{\\sqrt{64 \\, {\\left| u \\right|}^{2} + 64 \\, {\\left| v \\right|}^{2} + 1}},\\,\\frac{8 \\, v}{\\sqrt{64 \\, {\\left| u \\right|}^{2} + 64 \\, {\\left| v \\right|}^{2} + 1}},\\,\\frac{1}{\\sqrt{64 \\, {\\left| u \\right|}^{2} + 64 \\, {\\left| v \\right|}^{2} + 1}}\\right)</script></html>"
      ],
      "text/plain": [
       "'\\n varphi=' (u, v) |--> (u, v, 4*u^2 - 4*v^2) '\\n varphi_u=' (u, v) |--> (1, 0, 8*u) ' \\n varphi_v=' (u, v) |--> (0, 1, -8*v) '\\n N=' (u, v) |--> (-8*u/sqrt(64*abs(u)^2 + 64*abs(v)^2 + 1), 8*v/sqrt(64*abs(u)^2 + 64*abs(v)^2 + 1), 1/sqrt(64*abs(u)^2 + 64*abs(v)^2 + 1))"
      ]
     },
     "metadata": {},
     "output_type": "display_data"
    },
    {
     "data": {
      "text/html": [
       "<html><script type=\"math/tex; mode=display\">\\newcommand{\\Bold}[1]{\\mathbf{#1}}\\verb|Kg=| 0.00151201759852132</script></html>"
      ],
      "text/plain": [
       "'Kg=' 0.00151201759852132"
      ]
     },
     "metadata": {},
     "output_type": "display_data"
    },
    {
     "data": {
      "text/html": [
       "<html><script type=\"math/tex; mode=display\">\\newcommand{\\Bold}[1]{\\mathbf{#1}}\\verb|Kg=| \\left( t, u, v \\right) \\ {\\mapsto} \\ \\frac{10752}{15997065521} \\, \\sqrt{3161} \\sqrt{1601}</script></html>"
      ],
      "text/plain": [
       "'Kg=' (t, u, v) |--> 10752/15997065521*sqrt(3161)*sqrt(1601)"
      ]
     },
     "metadata": {},
     "output_type": "display_data"
    }
   ],
   "source": [
    "#Aqui va el programet per fer els calculs directes de \n",
    "# la primera pregunta exerci del ACME Superfícies 2\n",
    "print(\"Problema 1 Marc\")\n",
    "var('t' 'varphi');\n",
    "a(t)=(2*t,3*t,-11*t^2);\n",
    "a_t=diff(a,t);\n",
    "a_tt=diff(a_t,t);\n",
    "show(\"\\n a=\",a,\",\\na_t=\",a_t,\",\\n a_tt=\",a_tt);\n",
    "\n",
    "varphi(u,v)=(u,v,4*u^2-3*v^2);\n",
    "varphi_u=diff(varphi,u);\n",
    "varphi_v=diff(varphi,v);\n",
    "N=(varphi_u).cross_product(varphi_v)/norm(((varphi_u).cross_product(varphi_v)));\n",
    "show(\"\\n varphi=\",varphi,\"\\n varphi_u=\",varphi_u,\" \\n varphi_v=\",varphi_v,\"\\n N=\",N);\n",
    "Kg=(a_tt*(N.cross_product(a_t)))/(norm(a_t)^3);\n",
    "show(\"Kg=\",(Kg.subs(t=1,u=2,v=3)).n());\n",
    "show(\"Kg=\",(Kg.subs(t=1,u=2,v=3)));\n",
    "\n",
    "print(\"Problema 1 C\")\n",
    "var('t' 'varphi');\n",
    "a(t)=(3*t,4*t,-28*t^2);\n",
    "a_t=diff(a,t);\n",
    "a_tt=diff(a_t,t);\n",
    "show(\"\\n a=\",a,\",\\na_t=\",a_t,\",\\n a_tt=\",a_tt);\n",
    "\n",
    "varphi(u,v)=(u,v,4*u^2-4*v^2);\n",
    "varphi_u=diff(varphi,u);\n",
    "varphi_v=diff(varphi,v);\n",
    "N=(varphi_u).cross_product(varphi_v)/norm(((varphi_u).cross_product(varphi_v)));\n",
    "show(\"\\n varphi=\",varphi,\"\\n varphi_u=\",varphi_u,\" \\n varphi_v=\",varphi_v,\"\\n N=\",N);\n",
    "Kg=(a_tt*(N.cross_product(a_t)))/(norm(a_t)^3);\n",
    "show(\"Kg=\",(Kg.subs(t=1,u=3,v=4)).n());\n",
    "show(\"Kg=\",(Kg.subs(t=1,u=3,v=4)));\n"
   ]
  }
 ],
 "metadata": {
  "celltoolbar": "Edit Metadata",
  "kernelspec": {
   "display_name": "SageMath 8.1",
   "language": "",
   "name": "sagemath"
  },
  "language_info": {
   "codemirror_mode": {
    "name": "ipython",
    "version": 2
   },
   "file_extension": ".py",
   "mimetype": "text/x-python",
   "name": "python",
   "nbconvert_exporter": "python",
   "pygments_lexer": "ipython2",
   "version": "2.7.17"
  }
 },
 "nbformat": 4,
 "nbformat_minor": 2
}
