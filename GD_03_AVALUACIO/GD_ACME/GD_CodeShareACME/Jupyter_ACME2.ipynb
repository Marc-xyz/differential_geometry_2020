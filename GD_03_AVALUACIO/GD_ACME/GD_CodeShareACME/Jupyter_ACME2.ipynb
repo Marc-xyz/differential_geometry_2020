{
 "cells": [
  {
   "cell_type": "code",
   "execution_count": 5,
   "metadata": {},
   "outputs": [
    {
     "name": "stdout",
     "output_type": "stream",
     "text": [
      "Tercer curs del grau en Matemàtiques (UAB)\n",
      "Assignatura de Geometria Diferencial [MO32211]\n",
      "Codis en Sage Math 8.1 pels ACME's\n",
      "Activitat 2: Superficies\n",
      "by M.G\n"
     ]
    }
   ],
   "source": [
    "print(\"Tercer curs del grau en Matemàtiques (UAB)\");\n",
    "print(\"Assignatura de Geometria Diferencial [MO32211]\");\n",
    "print(\"Codis en Sage Math 8.1 pels ACME's\");\n",
    "print('Activitat 2: Superficies');\n",
    "print(\"by M.G\");"
   ]
  },
  {
   "cell_type": "code",
   "execution_count": 6,
   "metadata": {},
   "outputs": [
    {
     "name": "stdout",
     "output_type": "stream",
     "text": [
      "#Problema_01_Marc:\n"
     ]
    },
    {
     "data": {
      "text/html": [
       "<html><script type=\"math/tex; mode=display\">\\newcommand{\\Bold}[1]{\\mathbf{#1}}\\left(-2 \\, v \\sin\\left(2 \\, u + 2 \\, v\\right),\\,-3,\\,2 \\, v \\cos\\left(2 \\, u + 2 \\, v\\right)\\right)</script></html>"
      ],
      "text/plain": [
       "(-2*v*sin(2*u + 2*v), -3, 2*v*cos(2*u + 2*v))"
      ]
     },
     "metadata": {},
     "output_type": "display_data"
    },
    {
     "data": {
      "text/html": [
       "<html><script type=\"math/tex; mode=display\">\\newcommand{\\Bold}[1]{\\mathbf{#1}}\\left(-2 \\, v \\sin\\left(2 \\, u + 2 \\, v\\right) + \\cos\\left(2 \\, u + 2 \\, v\\right),\\,4,\\,2 \\, v \\cos\\left(2 \\, u + 2 \\, v\\right) + \\sin\\left(2 \\, u + 2 \\, v\\right)\\right)</script></html>"
      ],
      "text/plain": [
       "(-2*v*sin(2*u + 2*v) + cos(2*u + 2*v), 4, 2*v*cos(2*u + 2*v) + sin(2*u + 2*v))"
      ]
     },
     "metadata": {},
     "output_type": "display_data"
    },
    {
     "data": {
      "text/html": [
       "<html><script type=\"math/tex; mode=display\">\\newcommand{\\Bold}[1]{\\mathbf{#1}}\\left(-14 \\, v \\cos\\left(2 \\, u + 2 \\, v\\right) - 3 \\, \\sin\\left(2 \\, u + 2 \\, v\\right),\\,-2 \\, {\\left(2 \\, v \\sin\\left(2 \\, u + 2 \\, v\\right) - \\cos\\left(2 \\, u + 2 \\, v\\right)\\right)} v \\cos\\left(2 \\, u + 2 \\, v\\right) + 2 \\, {\\left(2 \\, v \\cos\\left(2 \\, u + 2 \\, v\\right) + \\sin\\left(2 \\, u + 2 \\, v\\right)\\right)} v \\sin\\left(2 \\, u + 2 \\, v\\right),\\,-14 \\, v \\sin\\left(2 \\, u + 2 \\, v\\right) + 3 \\, \\cos\\left(2 \\, u + 2 \\, v\\right)\\right)</script></html>"
      ],
      "text/plain": [
       "(-14*v*cos(2*u + 2*v) - 3*sin(2*u + 2*v), -2*(2*v*sin(2*u + 2*v) - cos(2*u + 2*v))*v*cos(2*u + 2*v) + 2*(2*v*cos(2*u + 2*v) + sin(2*u + 2*v))*v*sin(2*u + 2*v), -14*v*sin(2*u + 2*v) + 3*cos(2*u + 2*v))"
      ]
     },
     "metadata": {},
     "output_type": "display_data"
    },
    {
     "data": {
      "text/html": [
       "<html><script type=\"math/tex; mode=display\">\\newcommand{\\Bold}[1]{\\mathbf{#1}}200 \\, v^{2} + 9</script></html>"
      ],
      "text/plain": [
       "200*v^2 + 9"
      ]
     },
     "metadata": {},
     "output_type": "display_data"
    },
    {
     "data": {
      "text/html": [
       "<html><script type=\"math/tex; mode=display\">\\newcommand{\\Bold}[1]{\\mathbf{#1}}\\frac{3209}{600} \\, \\sqrt{3209} - \\frac{9}{200}</script></html>"
      ],
      "text/plain": [
       "3209/600*sqrt(3209) - 9/200"
      ]
     },
     "metadata": {},
     "output_type": "display_data"
    }
   ],
   "source": [
    "print('#Problema_01_Marc:');\n",
    "var('u' 'v');\n",
    "phi(u,v)=(v*cos(2*u+2*v),4*v-3*u,v*sin(2*u+2*v));\n",
    "du=diff(phi(u,v),u); show(du)\n",
    "dv=diff(phi(u,v),v); show(dv)\n",
    "#Producte vectorial\n",
    "duxdv=du.cross_product(dv); show(duxdv)\n",
    "#ELEMENT d'Àrea\n",
    "dS=duxdv.dot_product(duxdv);\n",
    "dA=dS.full_simplify(); show(dA);\n",
    "from sage.symbolic.integration.integral import definite_integral\n",
    "Res=definite_integral(definite_integral(sqrt(dA),u,0,v),v,0,4); show(Res); Res.n();"
   ]
  },
  {
   "cell_type": "code",
   "execution_count": 7,
   "metadata": {},
   "outputs": [
    {
     "name": "stdout",
     "output_type": "stream",
     "text": [
      "#Problema_01_Cesar:\n"
     ]
    },
    {
     "data": {
      "text/html": [
       "<html><script type=\"math/tex; mode=display\">\\newcommand{\\Bold}[1]{\\mathbf{#1}}\\left(-2 \\, v \\sin\\left(2 \\, u + 3 \\, v\\right),\\,-3,\\,2 \\, v \\cos\\left(2 \\, u + 3 \\, v\\right)\\right)</script></html>"
      ],
      "text/plain": [
       "(-2*v*sin(2*u + 3*v), -3, 2*v*cos(2*u + 3*v))"
      ]
     },
     "metadata": {},
     "output_type": "display_data"
    },
    {
     "data": {
      "text/html": [
       "<html><script type=\"math/tex; mode=display\">\\newcommand{\\Bold}[1]{\\mathbf{#1}}\\left(-3 \\, v \\sin\\left(2 \\, u + 3 \\, v\\right) + \\cos\\left(2 \\, u + 3 \\, v\\right),\\,2,\\,3 \\, v \\cos\\left(2 \\, u + 3 \\, v\\right) + \\sin\\left(2 \\, u + 3 \\, v\\right)\\right)</script></html>"
      ],
      "text/plain": [
       "(-3*v*sin(2*u + 3*v) + cos(2*u + 3*v), 2, 3*v*cos(2*u + 3*v) + sin(2*u + 3*v))"
      ]
     },
     "metadata": {},
     "output_type": "display_data"
    },
    {
     "data": {
      "text/html": [
       "<html><script type=\"math/tex; mode=display\">\\newcommand{\\Bold}[1]{\\mathbf{#1}}\\left(-13 \\, v \\cos\\left(2 \\, u + 3 \\, v\\right) - 3 \\, \\sin\\left(2 \\, u + 3 \\, v\\right),\\,-2 \\, {\\left(3 \\, v \\sin\\left(2 \\, u + 3 \\, v\\right) - \\cos\\left(2 \\, u + 3 \\, v\\right)\\right)} v \\cos\\left(2 \\, u + 3 \\, v\\right) + 2 \\, {\\left(3 \\, v \\cos\\left(2 \\, u + 3 \\, v\\right) + \\sin\\left(2 \\, u + 3 \\, v\\right)\\right)} v \\sin\\left(2 \\, u + 3 \\, v\\right),\\,-13 \\, v \\sin\\left(2 \\, u + 3 \\, v\\right) + 3 \\, \\cos\\left(2 \\, u + 3 \\, v\\right)\\right)</script></html>"
      ],
      "text/plain": [
       "(-13*v*cos(2*u + 3*v) - 3*sin(2*u + 3*v), -2*(3*v*sin(2*u + 3*v) - cos(2*u + 3*v))*v*cos(2*u + 3*v) + 2*(3*v*cos(2*u + 3*v) + sin(2*u + 3*v))*v*sin(2*u + 3*v), -13*v*sin(2*u + 3*v) + 3*cos(2*u + 3*v))"
      ]
     },
     "metadata": {},
     "output_type": "display_data"
    },
    {
     "data": {
      "text/html": [
       "<html><script type=\"math/tex; mode=display\">\\newcommand{\\Bold}[1]{\\mathbf{#1}}173 \\, v^{2} + 9</script></html>"
      ],
      "text/plain": [
       "173*v^2 + 9"
      ]
     },
     "metadata": {},
     "output_type": "display_data"
    },
    {
     "data": {
      "text/html": [
       "<html><script type=\"math/tex; mode=display\">\\newcommand{\\Bold}[1]{\\mathbf{#1}}\\frac{701}{519} \\, \\sqrt{701} - \\frac{9}{173}</script></html>"
      ],
      "text/plain": [
       "701/519*sqrt(701) - 9/173"
      ]
     },
     "metadata": {},
     "output_type": "display_data"
    }
   ],
   "source": [
    "print('#Problema_01_Cesar:');\n",
    "var('u' 'v');\n",
    "phi(u,v)=(v*cos(2*u+3*v),2*v-3*u,v*sin(2*u+3*v));\n",
    "du=diff(phi(u,v),u); show(du)\n",
    "dv=diff(phi(u,v),v); show(dv)\n",
    "#Producte vectorial\n",
    "duxdv=du.cross_product(dv); show(duxdv)\n",
    "#ELEMENT d'Àrea\n",
    "dS=duxdv.dot_product(duxdv);\n",
    "dA=dS.full_simplify(); show(dA);\n",
    "from sage.symbolic.integration.integral import definite_integral\n",
    "Res=definite_integral(definite_integral(sqrt(dA),u,0,v),v,0,2); show(Res); Res.n(); #sqrt(710).n();"
   ]
  },
  {
   "cell_type": "code",
   "execution_count": 8,
   "metadata": {},
   "outputs": [
    {
     "name": "stdout",
     "output_type": "stream",
     "text": [
      "#Problema_02_1de3_Marc:\n"
     ]
    },
    {
     "data": {
      "text/html": [
       "<html><script type=\"math/tex; mode=display\">\\newcommand{\\Bold}[1]{\\mathbf{#1}}\\verb|phi(u,v)<-->| \\left( u, v \\right) \\ {\\mapsto} \\ \\left(u,\\,v,\\,4 \\, u^{2} + 5 \\, u v + 3 \\, v^{2}\\right)</script></html>"
      ],
      "text/plain": [
       "'phi(u,v)<-->' (u, v) |--> (u, v, 4*u^2 + 5*u*v + 3*v^2)"
      ]
     },
     "metadata": {},
     "output_type": "display_data"
    },
    {
     "data": {
      "text/html": [
       "<html><script type=\"math/tex; mode=display\">\\newcommand{\\Bold}[1]{\\mathbf{#1}}\\verb|du=| \\left(1,\\,0,\\,8 \\, u + 5 \\, v\\right)</script></html>"
      ],
      "text/plain": [
       "'du=' (1, 0, 8*u + 5*v)"
      ]
     },
     "metadata": {},
     "output_type": "display_data"
    },
    {
     "data": {
      "text/html": [
       "<html><script type=\"math/tex; mode=display\">\\newcommand{\\Bold}[1]{\\mathbf{#1}}\\verb|dv=| \\left(0,\\,1,\\,5 \\, u + 6 \\, v\\right)</script></html>"
      ],
      "text/plain": [
       "'dv=' (0, 1, 5*u + 6*v)"
      ]
     },
     "metadata": {},
     "output_type": "display_data"
    },
    {
     "data": {
      "text/html": [
       "<html><script type=\"math/tex; mode=display\">\\newcommand{\\Bold}[1]{\\mathbf{#1}}\\verb|duu=| \\left(0,\\,0,\\,8\\right)</script></html>"
      ],
      "text/plain": [
       "'duu=' (0, 0, 8)"
      ]
     },
     "metadata": {},
     "output_type": "display_data"
    },
    {
     "data": {
      "text/html": [
       "<html><script type=\"math/tex; mode=display\">\\newcommand{\\Bold}[1]{\\mathbf{#1}}\\verb|duv=| \\left(0,\\,0,\\,5\\right)</script></html>"
      ],
      "text/plain": [
       "'duv=' (0, 0, 5)"
      ]
     },
     "metadata": {},
     "output_type": "display_data"
    },
    {
     "data": {
      "text/html": [
       "<html><script type=\"math/tex; mode=display\">\\newcommand{\\Bold}[1]{\\mathbf{#1}}\\verb|duv=| \\left(0,\\,0,\\,5\\right) \\verb|Igual|\\phantom{\\verb!x!}\\verb|que|\\phantom{\\verb!x!}\\verb|lanterior?|</script></html>"
      ],
      "text/plain": [
       "'duv=' (0, 0, 5) 'Igual que lanterior?'"
      ]
     },
     "metadata": {},
     "output_type": "display_data"
    },
    {
     "data": {
      "text/html": [
       "<html><script type=\"math/tex; mode=display\">\\newcommand{\\Bold}[1]{\\mathbf{#1}}\\verb|dvv=| \\left(0,\\,0,\\,6\\right)</script></html>"
      ],
      "text/plain": [
       "'dvv=' (0, 0, 6)"
      ]
     },
     "metadata": {},
     "output_type": "display_data"
    },
    {
     "data": {
      "text/html": [
       "<html><script type=\"math/tex; mode=display\">\\newcommand{\\Bold}[1]{\\mathbf{#1}}\\verb|E=| 64 \\, u^{2} + 80 \\, u v + 25 \\, v^{2} + 1</script></html>"
      ],
      "text/plain": [
       "'E=' 64*u^2 + 80*u*v + 25*v^2 + 1"
      ]
     },
     "metadata": {},
     "output_type": "display_data"
    },
    {
     "data": {
      "text/html": [
       "<html><script type=\"math/tex; mode=display\">\\newcommand{\\Bold}[1]{\\mathbf{#1}}\\verb|F=| 40 \\, u^{2} + 73 \\, u v + 30 \\, v^{2}</script></html>"
      ],
      "text/plain": [
       "'F=' 40*u^2 + 73*u*v + 30*v^2"
      ]
     },
     "metadata": {},
     "output_type": "display_data"
    },
    {
     "data": {
      "text/html": [
       "<html><script type=\"math/tex; mode=display\">\\newcommand{\\Bold}[1]{\\mathbf{#1}}\\verb|G=| 25 \\, u^{2} + 60 \\, u v + 36 \\, v^{2} + 1</script></html>"
      ],
      "text/plain": [
       "'G=' 25*u^2 + 60*u*v + 36*v^2 + 1"
      ]
     },
     "metadata": {},
     "output_type": "display_data"
    }
   ],
   "source": [
    "print('#Problema_02_1de3_Marc:');\n",
    "var('u' 'v');\n",
    "phi(u,v)=(u,v,4*u*u+5*u*v+3*v*v); show('phi(u,v)<-->',phi);\n",
    "#DERIVADES PARCIALS\n",
    "du=diff(phi(u,v),u); show('du=',du);\n",
    "dv=diff(phi(u,v),v); show('dv=',dv);\n",
    "duu=diff(du,u); show('duu=',duu);\n",
    "duv=diff(du,v); show('duv=',duv);\n",
    "dvu=diff(dv,u); show('duv=',dvu, 'Igual que lanterior?');\n",
    "dvv=diff(dv,v); show('dvv=',dvv);\n",
    "#1 FORMA\n",
    "E=du.dot_product(du); show('E=',E.full_simplify());\n",
    "F=du.dot_product(dv); show('F=',F.full_simplify());\n",
    "G=dv.dot_product(dv); show('G=',G.full_simplify());"
   ]
  },
  {
   "cell_type": "code",
   "execution_count": 9,
   "metadata": {},
   "outputs": [
    {
     "name": "stdout",
     "output_type": "stream",
     "text": [
      "#Problema_02_2de3_Marc:\n"
     ]
    },
    {
     "data": {
      "text/html": [
       "<html><script type=\"math/tex; mode=display\">\\newcommand{\\Bold}[1]{\\mathbf{#1}}\\verb|duXdv=| \\left(-8 \\, u - 5 \\, v,\\,-5 \\, u - 6 \\, v,\\,1\\right)</script></html>"
      ],
      "text/plain": [
       "'duXdv=' (-8*u - 5*v, -5*u - 6*v, 1)"
      ]
     },
     "metadata": {},
     "output_type": "display_data"
    },
    {
     "data": {
      "text/html": [
       "<html><script type=\"math/tex; mode=display\">\\newcommand{\\Bold}[1]{\\mathbf{#1}}\\verb|dA=| 89 \\, u^{2} + 140 \\, u v + 61 \\, v^{2} + 1</script></html>"
      ],
      "text/plain": [
       "'dA=' 89*u^2 + 140*u*v + 61*v^2 + 1"
      ]
     },
     "metadata": {},
     "output_type": "display_data"
    },
    {
     "data": {
      "text/html": [
       "<html><script type=\"math/tex; mode=display\">\\newcommand{\\Bold}[1]{\\mathbf{#1}}\\verb|VectorNormal| \\left(-\\frac{8 \\, u + 5 \\, v}{89 \\, u^{2} + 140 \\, u v + 61 \\, v^{2} + 1},\\,-\\frac{5 \\, u + 6 \\, v}{89 \\, u^{2} + 140 \\, u v + 61 \\, v^{2} + 1},\\,\\frac{1}{89 \\, u^{2} + 140 \\, u v + 61 \\, v^{2} + 1}\\right)</script></html>"
      ],
      "text/plain": [
       "'VectorNormal' (-(8*u + 5*v)/(89*u^2 + 140*u*v + 61*v^2 + 1), -(5*u + 6*v)/(89*u^2 + 140*u*v + 61*v^2 + 1), 1/(89*u^2 + 140*u*v + 61*v^2 + 1))"
      ]
     },
     "metadata": {},
     "output_type": "display_data"
    },
    {
     "data": {
      "text/html": [
       "<html><script type=\"math/tex; mode=display\">\\newcommand{\\Bold}[1]{\\mathbf{#1}}\\verb|e=| \\frac{8}{89 \\, u^{2} + 140 \\, u v + 61 \\, v^{2} + 1}</script></html>"
      ],
      "text/plain": [
       "'e=' 8/(89*u^2 + 140*u*v + 61*v^2 + 1)"
      ]
     },
     "metadata": {},
     "output_type": "display_data"
    },
    {
     "data": {
      "text/html": [
       "<html><script type=\"math/tex; mode=display\">\\newcommand{\\Bold}[1]{\\mathbf{#1}}\\verb|f=| \\frac{5}{89 \\, u^{2} + 140 \\, u v + 61 \\, v^{2} + 1}</script></html>"
      ],
      "text/plain": [
       "'f=' 5/(89*u^2 + 140*u*v + 61*v^2 + 1)"
      ]
     },
     "metadata": {},
     "output_type": "display_data"
    },
    {
     "data": {
      "text/html": [
       "<html><script type=\"math/tex; mode=display\">\\newcommand{\\Bold}[1]{\\mathbf{#1}}\\verb|g=| \\frac{6}{89 \\, u^{2} + 140 \\, u v + 61 \\, v^{2} + 1}</script></html>"
      ],
      "text/plain": [
       "'g=' 6/(89*u^2 + 140*u*v + 61*v^2 + 1)"
      ]
     },
     "metadata": {},
     "output_type": "display_data"
    },
    {
     "data": {
      "text/html": [
       "<html><script type=\"math/tex; mode=display\">\\newcommand{\\Bold}[1]{\\mathbf{#1}}\\verb|CurvaturaGauss=| \\frac{23}{704969 \\, u^{6} + 1562820 \\, u v^{5} + 226981 \\, v^{6} + 183 \\, {\\left(25029 \\, u^{2} + 61\\right)} v^{4} + 23763 \\, u^{4} + 280 \\, {\\left(26087 \\, u^{3} + 183 \\, u\\right)} v^{3} + 3 \\, {\\left(2227581 \\, u^{4} + 30458 \\, u^{2} + 61\\right)} v^{2} + 267 \\, u^{2} + 420 \\, {\\left(7921 \\, u^{5} + 178 \\, u^{3} + u\\right)} v + 1}</script></html>"
      ],
      "text/plain": [
       "'CurvaturaGauss=' 23/(704969*u^6 + 1562820*u*v^5 + 226981*v^6 + 183*(25029*u^2 + 61)*v^4 + 23763*u^4 + 280*(26087*u^3 + 183*u)*v^3 + 3*(2227581*u^4 + 30458*u^2 + 61)*v^2 + 267*u^2 + 420*(7921*u^5 + 178*u^3 + u)*v + 1)"
      ]
     },
     "metadata": {},
     "output_type": "display_data"
    },
    {
     "data": {
      "text/html": [
       "<html><script type=\"math/tex; mode=display\">\\newcommand{\\Bold}[1]{\\mathbf{#1}}\\frac{92 \\, u^{2} + 115 \\, u v + 69 \\, v^{2} + 7}{7921 \\, u^{4} + 17080 \\, u v^{3} + 3721 \\, v^{4} + 2 \\, {\\left(15229 \\, u^{2} + 61\\right)} v^{2} + 178 \\, u^{2} + 280 \\, {\\left(89 \\, u^{3} + u\\right)} v + 1}</script></html>"
      ],
      "text/plain": [
       "(92*u^2 + 115*u*v + 69*v^2 + 7)/(7921*u^4 + 17080*u*v^3 + 3721*v^4 + 2*(15229*u^2 + 61)*v^2 + 178*u^2 + 280*(89*u^3 + u)*v + 1)"
      ]
     },
     "metadata": {},
     "output_type": "display_data"
    }
   ],
   "source": [
    "print('#Problema_02_2de3_Marc:')\n",
    "#PRODUCTES VECTORIAL\n",
    "duxdv=du.cross_product(dv); show('duXdv=',duxdv);\n",
    "#ELEMENT d'Àrea\n",
    "dS=duxdv.dot_product(duxdv);\n",
    "dA=dS.full_simplify(); show('dA=',dA);\n",
    "#VECTOR NORMAL\n",
    "V=duxdv/dA; show('VectorNormal',V);\n",
    "#2 FORMA\n",
    "e=V.dot_product(duu); show('e=',e.full_simplify());\n",
    "f=V.dot_product(duv); show('f=',f.full_simplify());\n",
    "g=V.dot_product(dvv); show('g=',g.full_simplify());\n",
    "K=(e*g-f^2)/(E*G-F^2); show('CurvaturaGauss=',K.full_simplify());\n",
    "H=(E*g-2*f*F+G*e)/(2*(E*G-F^2)); show(H.full_simplify()) #Curvatura mitjana en p \\in S."
   ]
  },
  {
   "cell_type": "code",
   "execution_count": 10,
   "metadata": {},
   "outputs": [
    {
     "name": "stdout",
     "output_type": "stream",
     "text": [
      "#Problema_02_3de3_Marc:\n"
     ]
    },
    {
     "data": {
      "text/html": [
       "<html><script type=\"math/tex; mode=display\">\\newcommand{\\Bold}[1]{\\mathbf{#1}}\\verb|CurvaturaMitjanaOrigen=| 7</script></html>"
      ],
      "text/plain": [
       "'CurvaturaMitjanaOrigen=' 7"
      ]
     },
     "metadata": {},
     "output_type": "display_data"
    },
    {
     "data": {
      "text/html": [
       "<html><script type=\"math/tex; mode=display\">\\newcommand{\\Bold}[1]{\\mathbf{#1}}\\verb|CurvaturaGaussOrigen=| 23</script></html>"
      ],
      "text/plain": [
       "'CurvaturaGaussOrigen=' 23"
      ]
     },
     "metadata": {},
     "output_type": "display_data"
    }
   ],
   "source": [
    "print('#Problema_02_3de3_Marc:');\n",
    "resul_2_b=H.subs(u=0,v=0); show('CurvaturaMitjanaOrigen=', resul_2_b);\n",
    "resul_2_a=K.subs(u=0,v=0); show('CurvaturaGaussOrigen=', resul_2_a);\n",
    "from sage.plot.plot3d.parametric_surface import ParametricSurface\n",
    "cm = colormaps.autumn\n",
    "def c(x,y): return sin(x*y)**2\n",
    "parametric_plot3d(phi(u,v), (u, -1, 1), (v, -1, 1), color=(c,cm));"
   ]
  },
  {
   "cell_type": "code",
   "execution_count": 8,
   "metadata": {},
   "outputs": [
    {
     "name": "stdout",
     "output_type": "stream",
     "text": [
      "#Problema_02Cesar_1_de_3:\n",
      "phi(u,v)\n"
     ]
    },
    {
     "data": {
      "text/html": [
       "<html><script type=\"math/tex; mode=display\">\\newcommand{\\Bold}[1]{\\mathbf{#1}}\\left( u, v \\right) \\ {\\mapsto} \\ \\left(u,\\,v,\\,2 \\, u^{2} + 4 \\, u v + 4 \\, v^{2}\\right)</script></html>"
      ],
      "text/plain": [
       "(u, v) |--> (u, v, 2*u^2 + 4*u*v + 4*v^2)"
      ]
     },
     "metadata": {},
     "output_type": "display_data"
    },
    {
     "data": {
      "text/html": [
       "<html><script type=\"math/tex; mode=display\">\\newcommand{\\Bold}[1]{\\mathbf{#1}}\\verb|du=| \\left(1,\\,0,\\,4 \\, u + 4 \\, v\\right)</script></html>"
      ],
      "text/plain": [
       "'du=' (1, 0, 4*u + 4*v)"
      ]
     },
     "metadata": {},
     "output_type": "display_data"
    },
    {
     "data": {
      "text/html": [
       "<html><script type=\"math/tex; mode=display\">\\newcommand{\\Bold}[1]{\\mathbf{#1}}\\verb|dv=| \\left(0,\\,1,\\,4 \\, u + 8 \\, v\\right)</script></html>"
      ],
      "text/plain": [
       "'dv=' (0, 1, 4*u + 8*v)"
      ]
     },
     "metadata": {},
     "output_type": "display_data"
    },
    {
     "data": {
      "text/html": [
       "<html><script type=\"math/tex; mode=display\">\\newcommand{\\Bold}[1]{\\mathbf{#1}}\\verb|duu=| \\left(0,\\,0,\\,4\\right)</script></html>"
      ],
      "text/plain": [
       "'duu=' (0, 0, 4)"
      ]
     },
     "metadata": {},
     "output_type": "display_data"
    },
    {
     "data": {
      "text/html": [
       "<html><script type=\"math/tex; mode=display\">\\newcommand{\\Bold}[1]{\\mathbf{#1}}\\verb|duv=| \\left(0,\\,0,\\,4\\right)</script></html>"
      ],
      "text/plain": [
       "'duv=' (0, 0, 4)"
      ]
     },
     "metadata": {},
     "output_type": "display_data"
    },
    {
     "data": {
      "text/html": [
       "<html><script type=\"math/tex; mode=display\">\\newcommand{\\Bold}[1]{\\mathbf{#1}}\\verb|duv=| \\left(0,\\,0,\\,4\\right) \\verb|Igual|\\phantom{\\verb!x!}\\verb|que|\\phantom{\\verb!x!}\\verb|lanterior?|</script></html>"
      ],
      "text/plain": [
       "'duv=' (0, 0, 4) 'Igual que lanterior?'"
      ]
     },
     "metadata": {},
     "output_type": "display_data"
    },
    {
     "data": {
      "text/html": [
       "<html><script type=\"math/tex; mode=display\">\\newcommand{\\Bold}[1]{\\mathbf{#1}}\\verb|dvv=| \\left(0,\\,0,\\,8\\right)</script></html>"
      ],
      "text/plain": [
       "'dvv=' (0, 0, 8)"
      ]
     },
     "metadata": {},
     "output_type": "display_data"
    },
    {
     "data": {
      "text/html": [
       "<html><script type=\"math/tex; mode=display\">\\newcommand{\\Bold}[1]{\\mathbf{#1}}\\verb|E=| 16 \\, u^{2} + 32 \\, u v + 16 \\, v^{2} + 1</script></html>"
      ],
      "text/plain": [
       "'E=' 16*u^2 + 32*u*v + 16*v^2 + 1"
      ]
     },
     "metadata": {},
     "output_type": "display_data"
    },
    {
     "data": {
      "text/html": [
       "<html><script type=\"math/tex; mode=display\">\\newcommand{\\Bold}[1]{\\mathbf{#1}}\\verb|F=| 16 \\, u^{2} + 48 \\, u v + 32 \\, v^{2}</script></html>"
      ],
      "text/plain": [
       "'F=' 16*u^2 + 48*u*v + 32*v^2"
      ]
     },
     "metadata": {},
     "output_type": "display_data"
    },
    {
     "data": {
      "text/html": [
       "<html><script type=\"math/tex; mode=display\">\\newcommand{\\Bold}[1]{\\mathbf{#1}}\\verb|G=| 16 \\, u^{2} + 64 \\, u v + 64 \\, v^{2} + 1</script></html>"
      ],
      "text/plain": [
       "'G=' 16*u^2 + 64*u*v + 64*v^2 + 1"
      ]
     },
     "metadata": {},
     "output_type": "display_data"
    }
   ],
   "source": [
    "print('#Problema_02_1_de_3_Cesar:');\n",
    "var('u' 'v');\n",
    "phi(u,v)=(u,v,2*u*u+4*u*v+4*v*v); print('phi(u,v)'); show(phi);\n",
    "#DERIVADES PARCIALS\n",
    "du=diff(phi(u,v),u); show('du=',du);\n",
    "dv=diff(phi(u,v),v); show('dv=',dv);\n",
    "duu=diff(du,u); show('duu=',duu);\n",
    "duv=diff(du,v); show('duv=',duv);\n",
    "dvu=diff(dv,u); show('duv=',dvu, 'Igual que lanterior?');\n",
    "dvv=diff(dv,v); show('dvv=',dvv);\n",
    "#1 FORMA\n",
    "E=du.dot_product(du); show('E=',E.full_simplify());\n",
    "F=du.dot_product(dv); show('F=',F.full_simplify());\n",
    "G=dv.dot_product(dv); show('G=',G.full_simplify());"
   ]
  },
  {
   "cell_type": "code",
   "execution_count": 11,
   "metadata": {},
   "outputs": [
    {
     "name": "stdout",
     "output_type": "stream",
     "text": [
      "#Problema_02_2_de_3_Cesar:\n"
     ]
    },
    {
     "data": {
      "text/html": [
       "<html><script type=\"math/tex; mode=display\">\\newcommand{\\Bold}[1]{\\mathbf{#1}}\\verb|duXdv=| \\left(-8 \\, u - 5 \\, v,\\,-5 \\, u - 6 \\, v,\\,1\\right)</script></html>"
      ],
      "text/plain": [
       "'duXdv=' (-8*u - 5*v, -5*u - 6*v, 1)"
      ]
     },
     "metadata": {},
     "output_type": "display_data"
    },
    {
     "data": {
      "text/html": [
       "<html><script type=\"math/tex; mode=display\">\\newcommand{\\Bold}[1]{\\mathbf{#1}}\\verb|dA=| 89 \\, u^{2} + 140 \\, u v + 61 \\, v^{2} + 1</script></html>"
      ],
      "text/plain": [
       "'dA=' 89*u^2 + 140*u*v + 61*v^2 + 1"
      ]
     },
     "metadata": {},
     "output_type": "display_data"
    },
    {
     "data": {
      "text/html": [
       "<html><script type=\"math/tex; mode=display\">\\newcommand{\\Bold}[1]{\\mathbf{#1}}\\verb|VectorNormal| \\left(-\\frac{8 \\, u + 5 \\, v}{89 \\, u^{2} + 140 \\, u v + 61 \\, v^{2} + 1},\\,-\\frac{5 \\, u + 6 \\, v}{89 \\, u^{2} + 140 \\, u v + 61 \\, v^{2} + 1},\\,\\frac{1}{89 \\, u^{2} + 140 \\, u v + 61 \\, v^{2} + 1}\\right)</script></html>"
      ],
      "text/plain": [
       "'VectorNormal' (-(8*u + 5*v)/(89*u^2 + 140*u*v + 61*v^2 + 1), -(5*u + 6*v)/(89*u^2 + 140*u*v + 61*v^2 + 1), 1/(89*u^2 + 140*u*v + 61*v^2 + 1))"
      ]
     },
     "metadata": {},
     "output_type": "display_data"
    },
    {
     "data": {
      "text/html": [
       "<html><script type=\"math/tex; mode=display\">\\newcommand{\\Bold}[1]{\\mathbf{#1}}\\verb|e=| \\frac{8}{89 \\, u^{2} + 140 \\, u v + 61 \\, v^{2} + 1}</script></html>"
      ],
      "text/plain": [
       "'e=' 8/(89*u^2 + 140*u*v + 61*v^2 + 1)"
      ]
     },
     "metadata": {},
     "output_type": "display_data"
    },
    {
     "data": {
      "text/html": [
       "<html><script type=\"math/tex; mode=display\">\\newcommand{\\Bold}[1]{\\mathbf{#1}}\\verb|f=| \\frac{5}{89 \\, u^{2} + 140 \\, u v + 61 \\, v^{2} + 1}</script></html>"
      ],
      "text/plain": [
       "'f=' 5/(89*u^2 + 140*u*v + 61*v^2 + 1)"
      ]
     },
     "metadata": {},
     "output_type": "display_data"
    },
    {
     "data": {
      "text/html": [
       "<html><script type=\"math/tex; mode=display\">\\newcommand{\\Bold}[1]{\\mathbf{#1}}\\verb|g=| \\frac{6}{89 \\, u^{2} + 140 \\, u v + 61 \\, v^{2} + 1}</script></html>"
      ],
      "text/plain": [
       "'g=' 6/(89*u^2 + 140*u*v + 61*v^2 + 1)"
      ]
     },
     "metadata": {},
     "output_type": "display_data"
    },
    {
     "data": {
      "text/html": [
       "<html><script type=\"math/tex; mode=display\">\\newcommand{\\Bold}[1]{\\mathbf{#1}}\\verb|CurvaturaGauss=| \\frac{23}{704969 \\, u^{6} + 1562820 \\, u v^{5} + 226981 \\, v^{6} + 183 \\, {\\left(25029 \\, u^{2} + 61\\right)} v^{4} + 23763 \\, u^{4} + 280 \\, {\\left(26087 \\, u^{3} + 183 \\, u\\right)} v^{3} + 3 \\, {\\left(2227581 \\, u^{4} + 30458 \\, u^{2} + 61\\right)} v^{2} + 267 \\, u^{2} + 420 \\, {\\left(7921 \\, u^{5} + 178 \\, u^{3} + u\\right)} v + 1}</script></html>"
      ],
      "text/plain": [
       "'CurvaturaGauss=' 23/(704969*u^6 + 1562820*u*v^5 + 226981*v^6 + 183*(25029*u^2 + 61)*v^4 + 23763*u^4 + 280*(26087*u^3 + 183*u)*v^3 + 3*(2227581*u^4 + 30458*u^2 + 61)*v^2 + 267*u^2 + 420*(7921*u^5 + 178*u^3 + u)*v + 1)"
      ]
     },
     "metadata": {},
     "output_type": "display_data"
    },
    {
     "data": {
      "text/html": [
       "<html><script type=\"math/tex; mode=display\">\\newcommand{\\Bold}[1]{\\mathbf{#1}}\\frac{92 \\, u^{2} + 115 \\, u v + 69 \\, v^{2} + 7}{7921 \\, u^{4} + 17080 \\, u v^{3} + 3721 \\, v^{4} + 2 \\, {\\left(15229 \\, u^{2} + 61\\right)} v^{2} + 178 \\, u^{2} + 280 \\, {\\left(89 \\, u^{3} + u\\right)} v + 1}</script></html>"
      ],
      "text/plain": [
       "(92*u^2 + 115*u*v + 69*v^2 + 7)/(7921*u^4 + 17080*u*v^3 + 3721*v^4 + 2*(15229*u^2 + 61)*v^2 + 178*u^2 + 280*(89*u^3 + u)*v + 1)"
      ]
     },
     "metadata": {},
     "output_type": "display_data"
    }
   ],
   "source": [
    "print('#Problema_02_2_de_3_Cesar:');\n",
    "#PRODUCTES VECTORIAL\n",
    "duxdv=du.cross_product(dv); show('duXdv=',duxdv);\n",
    "#ELEMENT d'Àrea\n",
    "dS=duxdv.dot_product(duxdv);\n",
    "dA=dS.full_simplify(); show('dA=',dA);\n",
    "#VECTOR NORMAL\n",
    "V=duxdv/dA; show('VectorNormal',V);\n",
    "#2 FORMA\n",
    "e=V.dot_product(duu); show('e=',e.full_simplify());\n",
    "f=V.dot_product(duv); show('f=',f.full_simplify());\n",
    "g=V.dot_product(dvv); show('g=',g.full_simplify());\n",
    "K=(e*g-f^2)/(E*G-F^2); show('CurvaturaGauss=',K.full_simplify());\n",
    "H=(E*g-2*f*F+G*e)/(2*(E*G-F^2)); show(H.full_simplify()) #Curvatura mitjana en p \\in S.\n",
    "#Curvatura de Gauss en p \\in S.\n",
    "#Problema_02_b):"
   ]
  },
  {
   "cell_type": "code",
   "execution_count": 10,
   "metadata": {},
   "outputs": [
    {
     "name": "stdout",
     "output_type": "stream",
     "text": [
      "#Problema_02Cesar_3_de_3:\n"
     ]
    },
    {
     "data": {
      "text/html": [
       "<html><script type=\"math/tex; mode=display\">\\newcommand{\\Bold}[1]{\\mathbf{#1}}\\verb|CurvaturaMitjanaOrigen=| 6</script></html>"
      ],
      "text/plain": [
       "'CurvaturaMitjanaOrigen=' 6"
      ]
     },
     "metadata": {},
     "output_type": "display_data"
    },
    {
     "data": {
      "text/html": [
       "<html><script type=\"math/tex; mode=display\">\\newcommand{\\Bold}[1]{\\mathbf{#1}}\\verb|CurvaturaGaussOrigen=| 16</script></html>"
      ],
      "text/plain": [
       "'CurvaturaGaussOrigen=' 16"
      ]
     },
     "metadata": {},
     "output_type": "display_data"
    }
   ],
   "source": [
    "print('#Problema_02_3_de_3_Cesar:');\n",
    "resul_2_b=H.subs(u=0,v=0); show('CurvaturaMitjanaOrigen=', resul_2_b);\n",
    "resul_2_a=K.subs(u=0,v=0); show('CurvaturaGaussOrigen=', resul_2_a);\n",
    "from sage.plot.plot3d.parametric_surface import ParametricSurface\n",
    "cm = colormaps.autumn\n",
    "def c(x,y): return sin(x*y)**2\n",
    "parametric_plot3d(phi(u,v), (u, -1, 1), (v, -1, 1), color=(c,cm));"
   ]
  },
  {
   "cell_type": "code",
   "execution_count": null,
   "metadata": {},
   "outputs": [],
   "source": []
  }
 ],
 "metadata": {
  "kernelspec": {
   "display_name": "SageMath 8.1",
   "language": "",
   "name": "sagemath"
  },
  "language_info": {
   "codemirror_mode": {
    "name": "ipython",
    "version": 2
   },
   "file_extension": ".py",
   "mimetype": "text/x-python",
   "name": "python",
   "nbconvert_exporter": "python",
   "pygments_lexer": "ipython2",
   "version": "2.7.17"
  }
 },
 "nbformat": 4,
 "nbformat_minor": 2
}
